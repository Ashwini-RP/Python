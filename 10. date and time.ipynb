{
 "cells": [
  {
   "cell_type": "code",
   "execution_count": 10,
   "metadata": {},
   "outputs": [
    {
     "ename": "UnboundLocalError",
     "evalue": "local variable 'ny' referenced before assignment",
     "output_type": "error",
     "traceback": [
      "\u001b[0;31m---------------------------------------------------------------------------\u001b[0m",
      "\u001b[0;31mUnboundLocalError\u001b[0m                         Traceback (most recent call last)",
      "\u001b[0;32m<ipython-input-10-dd3d9f3a1c9a>\u001b[0m in \u001b[0;36m<module>\u001b[0;34m\u001b[0m\n\u001b[1;32m     37\u001b[0m \u001b[0;34m\u001b[0m\u001b[0m\n\u001b[1;32m     38\u001b[0m \u001b[0mgivendate\u001b[0m\u001b[0;34m=\u001b[0m\u001b[0mday\u001b[0m\u001b[0;34m(\u001b[0m\u001b[0mdate\u001b[0m\u001b[0;34m=\u001b[0m\u001b[0;36m8\u001b[0m\u001b[0;34m,\u001b[0m\u001b[0mmonth\u001b[0m\u001b[0;34m=\u001b[0m\u001b[0;34m'july'\u001b[0m\u001b[0;34m,\u001b[0m\u001b[0myear\u001b[0m\u001b[0;34m=\u001b[0m\u001b[0;36m1991\u001b[0m\u001b[0;34m)\u001b[0m\u001b[0;34m\u001b[0m\u001b[0;34m\u001b[0m\u001b[0m\n\u001b[0;32m---> 39\u001b[0;31m \u001b[0mgivendate\u001b[0m\u001b[0;34m.\u001b[0m\u001b[0mcalender\u001b[0m\u001b[0;34m(\u001b[0m\u001b[0;34m)\u001b[0m\u001b[0;34m\u001b[0m\u001b[0;34m\u001b[0m\u001b[0m\n\u001b[0m\u001b[1;32m     40\u001b[0m \u001b[0;34m\u001b[0m\u001b[0m\n\u001b[1;32m     41\u001b[0m \u001b[0;34m\u001b[0m\u001b[0m\n",
      "\u001b[0;32m<ipython-input-10-dd3d9f3a1c9a>\u001b[0m in \u001b[0;36mcalender\u001b[0;34m(self)\u001b[0m\n\u001b[1;32m     29\u001b[0m             \u001b[0mi\u001b[0m\u001b[0;34m=\u001b[0m\u001b[0mi\u001b[0m\u001b[0;34m+\u001b[0m\u001b[0;36m1\u001b[0m\u001b[0;34m\u001b[0m\u001b[0;34m\u001b[0m\u001b[0m\n\u001b[1;32m     30\u001b[0m \u001b[0;34m\u001b[0m\u001b[0m\n\u001b[0;32m---> 31\u001b[0;31m         \u001b[0me\u001b[0m\u001b[0;34m=\u001b[0m \u001b[0ma\u001b[0m\u001b[0;34m+\u001b[0m\u001b[0mb\u001b[0m\u001b[0;34m+\u001b[0m\u001b[0mc\u001b[0m\u001b[0;34m+\u001b[0m\u001b[0mmonth_val\u001b[0m\u001b[0;34m[\u001b[0m\u001b[0mself\u001b[0m\u001b[0;34m.\u001b[0m\u001b[0mmonth_attribute\u001b[0m\u001b[0;34m]\u001b[0m\u001b[0;34m+\u001b[0m\u001b[0mny\u001b[0m\u001b[0;34m\u001b[0m\u001b[0;34m\u001b[0m\u001b[0m\n\u001b[0m\u001b[1;32m     32\u001b[0m         \u001b[0mprint\u001b[0m\u001b[0;34m(\u001b[0m\u001b[0me\u001b[0m\u001b[0;34m)\u001b[0m\u001b[0;34m\u001b[0m\u001b[0;34m\u001b[0m\u001b[0m\n\u001b[1;32m     33\u001b[0m         \u001b[0mf\u001b[0m\u001b[0;34m=\u001b[0m \u001b[0me\u001b[0m\u001b[0;34m%\u001b[0m\u001b[0;36m7\u001b[0m\u001b[0;34m\u001b[0m\u001b[0;34m\u001b[0m\u001b[0m\n",
      "\u001b[0;31mUnboundLocalError\u001b[0m: local variable 'ny' referenced before assignment"
     ]
    }
   ],
   "source": [
    "class day():\n",
    "    def __init__(self,date,month,year):\n",
    "        self.date_attribute=date\n",
    "        self.month_attribute=month\n",
    "        self.year_attribute=year\n",
    "        \n",
    "    def calender(self):\n",
    "        #day=[saturday,sunday,monday,tuesday,wednesday,thursday,friday]\n",
    "        a= self.year_attribute%100 \n",
    "        b=a//4\n",
    "        c=self.date_attribute\n",
    "        month_val={'jan':1,'feb':4,'mar':4,'apr':0,'may':2,'june':5,'july':0,'aug':3,'sep':6,'oct':1,'nov':4,'dec':6}\n",
    "        day={0: 'saturday' , 1:'sunday',2: 'monday', 3:'tuesday',4: 'wednesday',5:'thursday',6:'friday'}\n",
    "        l=[6,4,2,0]\n",
    "        i=0\n",
    "        m=1600\n",
    "        while (i< len(l)-1):\n",
    "            \n",
    "            if self.year_attribute > m and self.year_attribute < m + 99:\n",
    "                ny=l[i]\n",
    "                break\n",
    "                \n",
    "            else: \n",
    "                m=m+100\n",
    "                \n",
    "            if i==3:\n",
    "                i=-1\n",
    "                \n",
    "            i=i+1\n",
    "                \n",
    "        e= a+b+c+month_val[self.month_attribute]+ny\n",
    "        print(e)\n",
    "        f= e%7\n",
    "        print(f)\n",
    "        present_day=day[f]\n",
    "        print(present_day)\n",
    "        \n",
    "givendate=day(date=8,month='july',year=1991)\n",
    "givendate.calender()\n",
    "\n",
    "            \n",
    "        \n",
    "        \n",
    "       \n",
    "        \n",
    "        "
   ]
  },
  {
   "cell_type": "code",
   "execution_count": 24,
   "metadata": {},
   "outputs": [
    {
     "name": "stdout",
     "output_type": "stream",
     "text": [
      "0\n",
      "131\n",
      "5\n",
      "thursday\n"
     ]
    }
   ],
   "source": [
    "class day():\n",
    "    def __init__(self,date,month,year):\n",
    "        self.date_attribute=date\n",
    "        self.month_attribute=month\n",
    "        self.year_attribute=year\n",
    "        \n",
    "    def calender(self):\n",
    "        #day=[saturday,sunday,monday,tuesday,wednesday,thursday,friday]\n",
    "        a= self.year_attribute%100 \n",
    "        b=a//4\n",
    "        c=self.date_attribute\n",
    "        month_val={'jan':1,'feb':4,'mar':4,'apr':0,'may':2,'june':5,'july':0,'aug':3,'sep':6,'oct':1,'nov':4,'dec':6}\n",
    "        day={0: 'saturday' , 1:'sunday',2: 'monday', 3:'tuesday',4: 'wednesday',5:'thursday',6:'friday'}\n",
    "        l=[6,4,2,0]\n",
    "        i=0\n",
    "        m=1600\n",
    "        while (i<= len(l)-1):\n",
    "            if self.year_attribute >= m and self.year_attribute <= m + 99:\n",
    "                h=l[i]\n",
    "                print(h)\n",
    "                break\n",
    "                \n",
    "            else: \n",
    "                m=m+100\n",
    "                \n",
    "            if i==3:\n",
    "                i=-1\n",
    "                \n",
    "            i=i+1\n",
    "                \n",
    "        e= a+b+c+month_val[self.month_attribute] + h\n",
    "        print(e)\n",
    "        f= e%7\n",
    "        print(f)\n",
    "        present_day=day[f]\n",
    "        print(present_day)\n",
    "        \n",
    "givendate=day(date=8,month='july',year=1999)\n",
    "givendate.calender()\n"
   ]
  },
  {
   "cell_type": "code",
   "execution_count": 51,
   "metadata": {},
   "outputs": [
    {
     "name": "stdout",
     "output_type": "stream",
     "text": [
      "enter string dksewiksdjskdjhjgyeoiu\n",
      "no of vowels 6\n",
      "no of constants 16\n"
     ]
    }
   ],
   "source": [
    "name =input('enter string ')\n",
    "vowel=['a','e','i','o','u']\n",
    "count=0\n",
    "nocount=0\n",
    "for i in name :\n",
    "    \n",
    "    if i in vowel:\n",
    "        count+=1\n",
    "    else:\n",
    "        nocount+=1\n",
    "            \n",
    "print('no of vowels',count)\n",
    "print('no of constants',nocount)\n",
    "            \n",
    "        "
   ]
  },
  {
   "cell_type": "code",
   "execution_count": null,
   "metadata": {},
   "outputs": [],
   "source": []
  }
 ],
 "metadata": {
  "kernelspec": {
   "display_name": "Python 3",
   "language": "python",
   "name": "python3"
  },
  "language_info": {
   "codemirror_mode": {
    "name": "ipython",
    "version": 3
   },
   "file_extension": ".py",
   "mimetype": "text/x-python",
   "name": "python",
   "nbconvert_exporter": "python",
   "pygments_lexer": "ipython3",
   "version": "3.7.4"
  }
 },
 "nbformat": 4,
 "nbformat_minor": 2
}
