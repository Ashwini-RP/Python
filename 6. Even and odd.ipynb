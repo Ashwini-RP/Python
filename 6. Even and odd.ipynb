{
 "cells": [
  {
   "cell_type": "code",
   "execution_count": 1,
   "metadata": {},
   "outputs": [
    {
     "name": "stdout",
     "output_type": "stream",
     "text": [
      "Hello\n",
      "checking\n",
      "world\n",
      "checking\n"
     ]
    }
   ],
   "source": [
    "words=[\"Hello\",\"world\"]\n",
    "\n",
    "for w in words:\n",
    "    print(w)\n",
    "    print('checking')\n",
    "    "
   ]
  },
  {
   "cell_type": "code",
   "execution_count": 2,
   "metadata": {},
   "outputs": [
    {
     "name": "stdout",
     "output_type": "stream",
     "text": [
      "Hello\n",
      "world\n",
      "checking\n"
     ]
    }
   ],
   "source": [
    "words=[\"Hello\",\"world\"]\n",
    "\n",
    "for w in words:\n",
    "    print(w)\n",
    "    \n",
    "    \n",
    "print('checking')"
   ]
  },
  {
   "cell_type": "code",
   "execution_count": 3,
   "metadata": {},
   "outputs": [
    {
     "name": "stdout",
     "output_type": "stream",
     "text": [
      "world\n",
      "of\n",
      "happiness\n"
     ]
    }
   ],
   "source": [
    "a='world of happiness'\n",
    "for i in a.split():\n",
    "    print(i)\n",
    "    "
   ]
  },
  {
   "cell_type": "code",
   "execution_count": 13,
   "metadata": {},
   "outputs": [
    {
     "name": "stdout",
     "output_type": "stream",
     "text": [
      "world of happiness\n"
     ]
    }
   ],
   "source": [
    "a='world of happiness'\n",
    "\n",
    "for i in a.split('\\n'):\n",
    "    print(i)\n",
    "    "
   ]
  },
  {
   "cell_type": "code",
   "execution_count": 16,
   "metadata": {},
   "outputs": [
    {
     "name": "stdout",
     "output_type": "stream",
     "text": [
      "world \n",
      " of \n",
      " happiness\n"
     ]
    }
   ],
   "source": [
    "a='world \\n of \\n happiness'\n",
    "\n",
    "for i in a.split('\\n'):\n",
    "    print(i)\n",
    "    "
   ]
  },
  {
   "cell_type": "code",
   "execution_count": 35,
   "metadata": {},
   "outputs": [
    {
     "name": "stdout",
     "output_type": "stream",
     "text": [
      "12 = even\n",
      "34 = even\n",
      "45 = odd\n",
      "23 = odd\n",
      "33 = odd\n",
      "44 = even\n",
      "68 = even\n",
      "79 = odd\n"
     ]
    }
   ],
   "source": [
    "num=[12,34,45,23,33,44,68,79]\n",
    "\n",
    "for i in num:\n",
    "    if i%2==0:\n",
    "        print(i,'=', 'even')\n",
    "    else:\n",
    "        print(i,'=', 'odd')\n",
    "\n",
    "            "
   ]
  },
  {
   "cell_type": "code",
   "execution_count": null,
   "metadata": {},
   "outputs": [],
   "source": [
    "num=[39,56,78,46,24,35,89]"
   ]
  },
  {
   "cell_type": "code",
   "execution_count": null,
   "metadata": {},
   "outputs": [],
   "source": []
  },
  {
   "cell_type": "code",
   "execution_count": null,
   "metadata": {},
   "outputs": [],
   "source": []
  }
 ],
 "metadata": {
  "kernelspec": {
   "display_name": "Python 3",
   "language": "python",
   "name": "python3"
  },
  "language_info": {
   "codemirror_mode": {
    "name": "ipython",
    "version": 3
   },
   "file_extension": ".py",
   "mimetype": "text/x-python",
   "name": "python",
   "nbconvert_exporter": "python",
   "pygments_lexer": "ipython3",
   "version": "3.7.3"
  }
 },
 "nbformat": 4,
 "nbformat_minor": 2
}
