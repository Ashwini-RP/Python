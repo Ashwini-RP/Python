{
 "cells": [
  {
   "cell_type": "code",
   "execution_count": 1,
   "metadata": {},
   "outputs": [
    {
     "data": {
      "text/plain": [
       "'Physics'"
      ]
     },
     "execution_count": 1,
     "metadata": {},
     "output_type": "execute_result"
    }
   ],
   "source": [
    "class Book():\n",
    "    pass\n",
    "\n",
    "physics_book=Book()\n",
    "type(physics_book)\n",
    "\n",
    "class Books():\n",
    "    def __init__(self,subject):\n",
    "        self.subject_attribute=subject\n",
    "        \n",
    "my_book=Books(subject=\"Physics\")\n",
    "my_book.subject_attribute\n"
   ]
  },
  {
   "cell_type": "code",
   "execution_count": 2,
   "metadata": {},
   "outputs": [],
   "source": [
    "class Books():\n",
    "    def __init__(self,subject,author,year):\n",
    "        self.subject_attribute=subject\n",
    "        self.author_attribute=author\n",
    "        self.year_attribute=year"
   ]
  },
  {
   "cell_type": "code",
   "execution_count": 3,
   "metadata": {},
   "outputs": [],
   "source": [
    "book1=Books(author='sam',subject='chemistry',year='1999')"
   ]
  },
  {
   "cell_type": "code",
   "execution_count": 4,
   "metadata": {},
   "outputs": [
    {
     "data": {
      "text/plain": [
       "'chemistry'"
      ]
     },
     "execution_count": 4,
     "metadata": {},
     "output_type": "execute_result"
    }
   ],
   "source": [
    "book1.subject_attribute"
   ]
  },
  {
   "cell_type": "code",
   "execution_count": 5,
   "metadata": {},
   "outputs": [
    {
     "data": {
      "text/plain": [
       "'1999'"
      ]
     },
     "execution_count": 5,
     "metadata": {},
     "output_type": "execute_result"
    }
   ],
   "source": [
    "book1.year_attribute"
   ]
  },
  {
   "cell_type": "code",
   "execution_count": 6,
   "metadata": {},
   "outputs": [
    {
     "data": {
      "text/plain": [
       "'sam'"
      ]
     },
     "execution_count": 6,
     "metadata": {},
     "output_type": "execute_result"
    }
   ],
   "source": [
    "book1.author_attribute"
   ]
  },
  {
   "cell_type": "code",
   "execution_count": null,
   "metadata": {},
   "outputs": [],
   "source": [
    "class Books():\n",
    "    def __init__(self,subject,author,year):\n",
    "        self.subject_attribute=subject\n",
    "        self.author_attribute=author\n",
    "        self.year_attribute=year\n",
    "        \n",
    "book1.subject_attribute\n",
    "book1.year_attribute\n",
    "book1.author_attribute\n",
    "\n",
    "#without using print , the output will only be name of author.\n",
    "#if book1, all 3 statements are in same line as def , no output will be there"
   ]
  },
  {
   "cell_type": "code",
   "execution_count": 13,
   "metadata": {},
   "outputs": [
    {
     "name": "stdout",
     "output_type": "stream",
     "text": [
      "chemistry\n",
      "1999\n",
      "sam\n"
     ]
    }
   ],
   "source": [
    "class Books():\n",
    "    def __init__(self,subject,author,year):\n",
    "        self.subject_attribute=subject\n",
    "        self.author_attribute=author\n",
    "        self.year_attribute=year\n",
    "        \n",
    "print(book1.subject_attribute)\n",
    "print(book1.year_attribute)\n",
    "print(book1.author_attribute)"
   ]
  },
  {
   "cell_type": "code",
   "execution_count": 28,
   "metadata": {},
   "outputs": [],
   "source": [
    "class books():\n",
    "    def __init__(self,subject,author,year):\n",
    "        self.subject_attribute=subject\n",
    "        self.author_attribute=author\n",
    "        self.year_attribute=year\n",
    "    \n",
    "    def contains(self,number):\n",
    "        print(\"Book is {} solutions is printed {} time since {} \".format(self.subject_attribute,number,self.year_attribute))              "
   ]
  },
  {
   "cell_type": "code",
   "execution_count": 29,
   "metadata": {},
   "outputs": [
    {
     "name": "stdout",
     "output_type": "stream",
     "text": [
      "Book is chemistry solutions is printed 6 time since 1999 \n"
     ]
    }
   ],
   "source": [
    "book1=books(author='sam',subject='chemistry',year='1999')\n",
    "        \n",
    "book1.subject_attribute\n",
    "book1.year_attribute\n",
    "book1.author_attribute\n",
    "book1.contains(6)\n"
   ]
  },
  {
   "cell_type": "code",
   "execution_count": 58,
   "metadata": {},
   "outputs": [
    {
     "data": {
      "text/plain": [
       "'sam'"
      ]
     },
     "execution_count": 58,
     "metadata": {},
     "output_type": "execute_result"
    }
   ],
   "source": [
    "book1.subject_attribute\n",
    "book1.year_attribute\n",
    "book1.author_attribute"
   ]
  },
  {
   "cell_type": "code",
   "execution_count": 103,
   "metadata": {},
   "outputs": [],
   "source": [
    "class circle():\n",
    "    \n",
    "    pi=3.14\n",
    "    \n",
    "    def __init__(self,radius=1):\n",
    "        self.radius=radius\n",
    "        self.area=self.pi*radius*radius\n",
    "        \n",
    "    def circumference(self):\n",
    "        return(2*self.radius*self.pi)\n",
    "\n",
    "mycir = circle() "
   ]
  },
  {
   "cell_type": "code",
   "execution_count": 107,
   "metadata": {},
   "outputs": [],
   "source": [
    "mycir=circle(3)"
   ]
  },
  {
   "cell_type": "code",
   "execution_count": 108,
   "metadata": {},
   "outputs": [
    {
     "data": {
      "text/plain": [
       "3"
      ]
     },
     "execution_count": 108,
     "metadata": {},
     "output_type": "execute_result"
    }
   ],
   "source": [
    "mycir.radius"
   ]
  },
  {
   "cell_type": "code",
   "execution_count": 109,
   "metadata": {},
   "outputs": [
    {
     "data": {
      "text/plain": [
       "18.84"
      ]
     },
     "execution_count": 109,
     "metadata": {},
     "output_type": "execute_result"
    }
   ],
   "source": [
    "mycir.circumference()"
   ]
  },
  {
   "cell_type": "code",
   "execution_count": 110,
   "metadata": {},
   "outputs": [
    {
     "data": {
      "text/plain": [
       "28.259999999999998"
      ]
     },
     "execution_count": 110,
     "metadata": {},
     "output_type": "execute_result"
    }
   ],
   "source": [
    "mycir.area"
   ]
  },
  {
   "cell_type": "code",
   "execution_count": null,
   "metadata": {},
   "outputs": [],
   "source": []
  }
 ],
 "metadata": {
  "kernelspec": {
   "display_name": "Python 3",
   "language": "python",
   "name": "python3"
  },
  "language_info": {
   "codemirror_mode": {
    "name": "ipython",
    "version": 3
   },
   "file_extension": ".py",
   "mimetype": "text/x-python",
   "name": "python",
   "nbconvert_exporter": "python",
   "pygments_lexer": "ipython3",
   "version": "3.7.3"
  }
 },
 "nbformat": 4,
 "nbformat_minor": 2
}
