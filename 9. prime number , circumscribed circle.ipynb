{
 "cells": [
  {
   "cell_type": "markdown",
   "metadata": {},
   "source": [
    "# Write a function which takes one number as argument, if the number is prime then return the number otherwise return next prime number"
   ]
  },
  {
   "cell_type": "code",
   "execution_count": 19,
   "metadata": {},
   "outputs": [
    {
     "name": "stdout",
     "output_type": "stream",
     "text": [
      "enter number :8\n",
      "11 is next prime number\n"
     ]
    }
   ],
   "source": [
    "n=int(input('enter number :'))\n",
    "\n",
    "def isprime(n):\n",
    "    \n",
    "    if n > 1:\n",
    "        \n",
    "        for i in range(2,n):\n",
    "            if n%i==0:\n",
    "                break\n",
    "            \n",
    "                \n",
    "        else:\n",
    "            return True\n",
    "    else:\n",
    "        print(n,'is less than 1')\n",
    "        exit()\n",
    "    \n",
    "def nextprime(n):\n",
    "    \n",
    "    while(True):\n",
    "        n=n+1\n",
    "        \n",
    "        if isprime(n):\n",
    "            \n",
    "            break\n",
    "    return(n)\n",
    "    \n",
    "if isprime(n):\n",
    "    print(n,'is prime number')\n",
    "else:\n",
    "    print(nextprime(n),'is next prime number')\n",
    "    \n",
    "            \n",
    "        "
   ]
  },
  {
   "cell_type": "markdown",
   "metadata": {},
   "source": [
    "# Write a function which takes four numbers as arguments, and return avg, max and min"
   ]
  },
  {
   "cell_type": "code",
   "execution_count": 30,
   "metadata": {},
   "outputs": [],
   "source": [
    "def num(a,b,c,d):\n",
    "    t=[a,b,c,d]\n",
    "    \n",
    "    avg= sum(t)/4\n",
    "    \n",
    "    print(max(t),'max')\n",
    "    print(min(t),'min')\n",
    "    print(avg,'Avg')"
   ]
  },
  {
   "cell_type": "code",
   "execution_count": 31,
   "metadata": {},
   "outputs": [
    {
     "name": "stdout",
     "output_type": "stream",
     "text": [
      "78 max\n",
      "4 min\n",
      "45.75 Avg\n"
     ]
    }
   ],
   "source": [
    "num(4,45,56,78)"
   ]
  },
  {
   "cell_type": "code",
   "execution_count": 32,
   "metadata": {},
   "outputs": [
    {
     "name": "stdout",
     "output_type": "stream",
     "text": [
      "max 67\n",
      "min 2\n",
      "Avg 29.833333333333332\n"
     ]
    }
   ],
   "source": [
    "num=[2,5,6,45,67,54]\n",
    "\n",
    "avg=sum(num)/len(num)\n",
    "    \n",
    "print('max',max(num))\n",
    "print('min',min(num))\n",
    "print('Avg',avg,)"
   ]
  },
  {
   "cell_type": "markdown",
   "metadata": {},
   "source": [
    "# Write a function which takes one number as argument, if the number is perfect square then return the number otherwise return which min number to be added to get next perfect square "
   ]
  },
  {
   "cell_type": "code",
   "execution_count": 2,
   "metadata": {},
   "outputs": [
    {
     "name": "stdout",
     "output_type": "stream",
     "text": [
      "enter number12\n",
      "12 is not a perfect square\n",
      "4 min number to be added to make perfect square\n",
      "16 is a next perfect square\n"
     ]
    }
   ],
   "source": [
    "n=int(input('enter number'))\n",
    "def square(n):\n",
    "    i=1\n",
    "    while(i*i <= n):\n",
    "        if(n%i==0 and n/i==i):\n",
    "            return True\n",
    "            break\n",
    "        i=i+1\n",
    "    return False\n",
    "    \n",
    "def nextsquare(n):\n",
    "    count=0\n",
    "    while(True):\n",
    "        n=n+1\n",
    "        count+= 1\n",
    "        if square(n):\n",
    "            break\n",
    "            \n",
    "    return count\n",
    "    \n",
    "if square(n):\n",
    "    print(n,'is perfect square')\n",
    "else:\n",
    "    n1=nextsquare(n)\n",
    "    print(n,'is not a perfect square')\n",
    "    print(n1,'min number to be added to make perfect square')\n",
    "    print(n+n1,'is a next perfect square')"
   ]
  },
  {
   "cell_type": "markdown",
   "metadata": {},
   "source": [
    "# Write function to find area of the cone with PI as default argument"
   ]
  },
  {
   "cell_type": "code",
   "execution_count": 20,
   "metadata": {},
   "outputs": [],
   "source": [
    "def area(r,h,pi=3.142):\n",
    "    \n",
    "    A=(pi*r*(r+((h*h)+(r*r))**(1/2)))\n",
    "    print(A,'area of the cone')\n",
    "  \n",
    "    "
   ]
  },
  {
   "cell_type": "code",
   "execution_count": 21,
   "metadata": {},
   "outputs": [
    {
     "name": "stdout",
     "output_type": "stream",
     "text": [
      "226.75784358460922 area of the cone\n"
     ]
    }
   ],
   "source": [
    "area(5,8)"
   ]
  },
  {
   "cell_type": "markdown",
   "metadata": {},
   "source": [
    "# Write function to take three values as arguments then find whether it forms the triangle, if it forms then return circumscribed circle, inscribed circle otherwise return ‘with provided values triangle can not be formed’."
   ]
  },
  {
   "cell_type": "code",
   "execution_count": 33,
   "metadata": {},
   "outputs": [
    {
     "name": "stdout",
     "output_type": "stream",
     "text": [
      "enter number:3\n",
      "enter number:4\n",
      "enter number:5\n",
      "it forms a triangle\n",
      "2.3565 is area of inscribed circle of triangle\n",
      "78.55 is area of circumscribed circle of triangle\n"
     ]
    }
   ],
   "source": [
    "a=int(input('enter number:'))\n",
    "b=int(input('enter number:'))\n",
    "c=int(input('enter number:'))\n",
    "\n",
    "pi=3.142\n",
    "\n",
    "if c == (((a*a)+(b*b))**(1/2)):\n",
    "    print('it forms a triangle')\n",
    "    Area1= (pi*a*a)/12\n",
    "    print(Area1,'is area of inscribed circle of triangle')\n",
    "    \n",
    "    s=((a+b+c)/2)\n",
    "    A=(s*(s-a)*(s-b)*(s-c))**(1/2)\n",
    "    R=((a*b*c)/(4*A))\n",
    "    Area2 = (4*pi*R*R)\n",
    "    print(Area2,'is area of circumscribed circle of triangle')\n",
    "    \n",
    "else:\n",
    "    print('it doesnt form a triangle')\n",
    "\n",
    "\n"
   ]
  },
  {
   "cell_type": "markdown",
   "metadata": {},
   "source": []
  }
 ],
 "metadata": {
  "kernelspec": {
   "display_name": "Python 3",
   "language": "python",
   "name": "python3"
  },
  "language_info": {
   "codemirror_mode": {
    "name": "ipython",
    "version": 3
   },
   "file_extension": ".py",
   "mimetype": "text/x-python",
   "name": "python",
   "nbconvert_exporter": "python",
   "pygments_lexer": "ipython3",
   "version": "3.7.4"
  }
 },
 "nbformat": 4,
 "nbformat_minor": 2
}
